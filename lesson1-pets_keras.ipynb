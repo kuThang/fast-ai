{
 "cells": [
  {
   "cell_type": "code",
   "execution_count": 16,
   "metadata": {},
   "outputs": [
    {
     "data": {
      "text/plain": [
       "['/job:localhost/replica:0/task:0/device:GPU:0']"
      ]
     },
     "execution_count": 16,
     "metadata": {},
     "output_type": "execute_result"
    }
   ],
   "source": [
    "from keras import backend as K\n",
    "K.tensorflow_backend._get_available_gpus()"
   ]
  },
  {
   "cell_type": "markdown",
   "metadata": {},
   "source": [
    "### HOW TO\n",
    "* Download data by fastai\n",
    "\n",
    "* Copy data to correct folder \n",
    "     \n",
    "     data/pets/_pet_type_>/_image_\n",
    "* Load ResNet50 with weights\n",
    "* ① Replace top layer \n",
    "* ② Extract feature from ResNet50, then classify in other network"
   ]
  },
  {
   "cell_type": "code",
   "execution_count": 17,
   "metadata": {},
   "outputs": [],
   "source": [
    "%reload_ext autoreload\n",
    "%autoreload 2\n",
    "%matplotlib inline\n",
    "import os, json, re\n",
    "from glob import glob\n",
    "import numpy as np\n",
    "np.set_printoptions(precision=4, linewidth=100)\n",
    "from matplotlib import pyplot as plt\n",
    "import shutil "
   ]
  },
  {
   "cell_type": "code",
   "execution_count": 18,
   "metadata": {},
   "outputs": [],
   "source": [
    "from fastai.vision import *\n",
    "import tensorflow.keras as K"
   ]
  },
  {
   "cell_type": "code",
   "execution_count": 19,
   "metadata": {},
   "outputs": [
    {
     "data": {
      "text/plain": [
       "PosixPath('/home/jupyter/.fastai/data/oxford-iiit-pet')"
      ]
     },
     "execution_count": 19,
     "metadata": {},
     "output_type": "execute_result"
    }
   ],
   "source": [
    "current_dir = os.getcwd()\n",
    "data_folder = \"data/pets\"\n",
    "path = untar_data(URLs.PETS); path"
   ]
  },
  {
   "cell_type": "code",
   "execution_count": 21,
   "metadata": {},
   "outputs": [],
   "source": [
    "def preprocess_data(download_path):\n",
    "    data_path = os.path.join(current_dir, data_folder)\n",
    "    try:\n",
    "        # Create target Directory\n",
    "        os.mkdir(data_path)\n",
    "        print(\"Directory \", data_path, \" created \") \n",
    "    except FileExistsError:\n",
    "        print(\"Directory \", data_path, \" already exists\")\n",
    "\n",
    "    label_count = 0\n",
    "    labels = []\n",
    "    last_label = ''\n",
    "    \n",
    "    # image file name format\n",
    "    pat = r'/([^/]+)_\\d+.jpg$'\n",
    "    pat = re.compile(pat)\n",
    "    \n",
    "    g = glob(download_path + '/*.jpg')\n",
    "    for fn in g:\n",
    "        res = pat.search(fn)\n",
    "        if res.group(1) not in labels:\n",
    "            try:\n",
    "                os.mkdir(os.path.join(data_folder, res.group(1)))\n",
    "            except FileExistsError:\n",
    "                print(\"folder exist\")\n",
    "                \n",
    "            label_count += 1\n",
    "            labels.append(res.group(1))\n",
    "        \n",
    "        shutil.copy2(fn, os.path.join(data_folder, res.group(1)))\n",
    "    \n",
    "    return label_count, labels\n",
    "\n",
    "def remove_data(data_path):\n",
    "    remove_path = os.path.join(current_dir, data_folder)\n",
    "    try:\n",
    "        shutil.rmtree(remove_path)\n",
    "    except:\n",
    "        print('Error while deleting directory')\n",
    "\n",
    "        \n",
    "label_count, labels = preprocess_data(str(path/'images'))\n",
    "print(label_count, labels)\n",
    "# label_count=37\n",
    "# labels=['wheaten_terrier', 'newfoundland', 'Russian_Blue', 'havanese', 'Siamese',\n",
    "#         'chihuahua', 'pomeranian', 'Birman', 'staffordshire_bull_terrier', 'scottish_terrier',\n",
    "#         'Bengal', 'american_pit_bull_terrier', 'Persian', 'shiba_inu', 'British_Shorthair', \n",
    "#         'yorkshire_terrier', 'english_setter', 'Sphynx', 'Bombay', 'german_shorthaired', 'samoyed', \n",
    "#         'saint_bernard', 'keeshond', 'american_bulldog', 'beagle', 'boxer', 'leonberger', 'miniature_pinscher', \n",
    "#         'Ragdoll', 'pug', 'english_cocker_spaniel', 'basset_hound', 'Abyssinian', 'Egyptian_Mau', \n",
    "#         'Maine_Coon', 'great_pyrenees', 'japanese_chin']"
   ]
  },
  {
   "cell_type": "code",
   "execution_count": 20,
   "metadata": {},
   "outputs": [
    {
     "name": "stdout",
     "output_type": "stream",
     "text": [
      "2.2.4-tf\n"
     ]
    }
   ],
   "source": [
    "# !pip install keras --upgrade\n",
    "# !pip install Keras-Applications\n",
    "# import keras\n",
    "print(K.__version__)"
   ]
  },
  {
   "cell_type": "code",
   "execution_count": 22,
   "metadata": {},
   "outputs": [],
   "source": [
    "import tensorflow as tf\n",
    "from keras.applications import ResNet50\n",
    "from keras.models import Sequential\n",
    "from keras.layers import Dense\n",
    "from keras.preprocessing.image import ImageDataGenerator"
   ]
  },
  {
   "cell_type": "markdown",
   "metadata": {},
   "source": [
    "## Create ResNet50 model with customized top layer"
   ]
  },
  {
   "cell_type": "code",
   "execution_count": 10,
   "metadata": {},
   "outputs": [
    {
     "name": "stdout",
     "output_type": "stream",
     "text": [
      "WARNING:tensorflow:From /opt/anaconda3/lib/python3.7/site-packages/tensorflow/python/framework/op_def_library.py:263: colocate_with (from tensorflow.python.framework.ops) is deprecated and will be removed in a future version.\n",
      "Instructions for updating:\n",
      "Colocations handled automatically by placer.\n"
     ]
    }
   ],
   "source": [
    "conv_base=ResNet50(include_top=False, input_shape=(224, 224, 3), pooling='avg')"
   ]
  },
  {
   "cell_type": "code",
   "execution_count": 11,
   "metadata": {},
   "outputs": [
    {
     "name": "stdout",
     "output_type": "stream",
     "text": [
      "_________________________________________________________________\n",
      "Layer (type)                 Output Shape              Param #   \n",
      "=================================================================\n",
      "resnet50 (Model)             (None, 2048)              23587712  \n",
      "_________________________________________________________________\n",
      "dense_1 (Dense)              (None, 37)                75813     \n",
      "=================================================================\n",
      "Total params: 23,663,525\n",
      "Trainable params: 75,813\n",
      "Non-trainable params: 23,587,712\n",
      "_________________________________________________________________\n"
     ]
    }
   ],
   "source": [
    "conv_base.trainable=False\n",
    "model = Sequential()\n",
    "model.add(conv_base)\n",
    "model.add(Dense(37, activation='softmax'))\n",
    "model.summary()"
   ]
  },
  {
   "cell_type": "code",
   "execution_count": 12,
   "metadata": {},
   "outputs": [
    {
     "name": "stdout",
     "output_type": "stream",
     "text": [
      "Found 7394 images belonging to 37 classes.\n"
     ]
    }
   ],
   "source": [
    "datagen = ImageDataGenerator(rescale=1./255)\n",
    "bs=256\n",
    "generator=datagen.flow_from_directory(\n",
    "    directory=os.path.join(current_dir, data_folder),\n",
    "    target_size=(224,224),\n",
    "    batch_size=bs,\n",
    "    classes=labels,\n",
    "    class_mode='categorical')"
   ]
  },
  {
   "cell_type": "code",
   "execution_count": 13,
   "metadata": {},
   "outputs": [],
   "source": [
    "model.compile(optimizer='adam', loss='categorical_crossentropy', metrics=['acc'])"
   ]
  },
  {
   "cell_type": "code",
   "execution_count": 15,
   "metadata": {},
   "outputs": [
    {
     "name": "stdout",
     "output_type": "stream",
     "text": [
      "29.0\n",
      "Epoch 1/10\n",
      "29/29 [==============================] - 43s 1s/step - loss: 0.4345 - acc: 0.8929\n",
      "Epoch 2/10\n",
      "29/29 [==============================] - 42s 1s/step - loss: 0.3579 - acc: 0.9198\n",
      "Epoch 3/10\n",
      "29/29 [==============================] - 41s 1s/step - loss: 0.2997 - acc: 0.9354\n",
      "Epoch 4/10\n",
      "29/29 [==============================] - 43s 1s/step - loss: 0.2628 - acc: 0.9484\n",
      "Epoch 5/10\n",
      "29/29 [==============================] - 41s 1s/step - loss: 0.2249 - acc: 0.9606\n",
      "Epoch 6/10\n",
      "29/29 [==============================] - 43s 1s/step - loss: 0.1978 - acc: 0.9669\n",
      "Epoch 7/10\n",
      "29/29 [==============================] - 41s 1s/step - loss: 0.1747 - acc: 0.9753\n",
      "Epoch 8/10\n",
      "29/29 [==============================] - 43s 1s/step - loss: 0.1555 - acc: 0.9812\n",
      "Epoch 9/10\n",
      "29/29 [==============================] - 43s 1s/step - loss: 0.1384 - acc: 0.9835\n",
      "Epoch 10/10\n",
      "29/29 [==============================] - 42s 1s/step - loss: 0.1253 - acc: 0.9892\n",
      "CPU times: user 21min 4s, sys: 58.8 s, total: 22min 3s\n",
      "Wall time: 7min 1s\n"
     ]
    }
   ],
   "source": [
    "%%time\n",
    "steps_per_epoch=np.ceil(7393/bs)\n",
    "print(steps_per_epoch)\n",
    "history = model.fit_generator(generator, steps_per_epoch=steps_per_epoch, epochs=10)"
   ]
  },
  {
   "cell_type": "markdown",
   "metadata": {},
   "source": [
    "## Use ResNet50 to extracfeature"
   ]
  },
  {
   "cell_type": "code",
   "execution_count": 23,
   "metadata": {},
   "outputs": [],
   "source": [
    "conv_base2=ResNet50(include_top=False, input_shape=(224, 224, 3), pooling='avg')"
   ]
  },
  {
   "cell_type": "code",
   "execution_count": 24,
   "metadata": {},
   "outputs": [
    {
     "name": "stdout",
     "output_type": "stream",
     "text": [
      "Found 7394 images belonging to 37 classes.\n",
      "CPU times: user 3min 10s, sys: 14.8 s, total: 3min 25s\n",
      "Wall time: 1min 21s\n"
     ]
    }
   ],
   "source": [
    "%%time\n",
    "def extract_feature(sample_count):\n",
    "    batch_size=64\n",
    "    features=np.zeros(shape=(sample_count, 2048))\n",
    "    labels=np.zeros(shape=(sample_count))\n",
    "    datagen2 = ImageDataGenerator(rescale=1./255)\n",
    "    generator=datagen2.flow_from_directory(\n",
    "        directory=os.path.join(current_dir, data_folder),\n",
    "        target_size=(224,224),\n",
    "        batch_size=batch_size,\n",
    "        class_mode='binary')\n",
    "    \n",
    "    i = 0\n",
    "    for inputs_batch, labels_batch in generator:\n",
    "        features_batch = conv_base2.predict(inputs_batch)\n",
    "        features[i* batch_size : (i+1) * batch_size] = features_batch\n",
    "        labels[i * batch_size: (i+1) * batch_size] = labels_batch\n",
    "        i += 1\n",
    "        if i*batch_size >= sample_count:\n",
    "            break\n",
    "    return features, labels\n",
    "\n",
    "train_features, train_labels = extract_feature(7394)"
   ]
  },
  {
   "cell_type": "code",
   "execution_count": 25,
   "metadata": {},
   "outputs": [
    {
     "name": "stdout",
     "output_type": "stream",
     "text": [
      "(7394, 2048)\n",
      "(7394,)\n",
      "[15. 11. 29. 31. 21.  7.  2.  8.  4. 34. 27. 15. 28. 10. 36.  6. 21.  4. 29. 28.  9. 18. 22. 28.\n",
      "  3. 35. 20.  9.  0.  4.]\n"
     ]
    }
   ],
   "source": [
    "print(train_features.shape)\n",
    "print(train_labels.shape)\n",
    "print(train_labels[100:130])"
   ]
  },
  {
   "cell_type": "code",
   "execution_count": 27,
   "metadata": {},
   "outputs": [
    {
     "name": "stdout",
     "output_type": "stream",
     "text": [
      "CPU times: user 11min 28s, sys: 2min 11s, total: 13min 40s\n",
      "Wall time: 7min 16s\n"
     ]
    }
   ],
   "source": [
    "%%time\n",
    "model2 = Sequential()\n",
    "model2.add(Dense(256, activation=\"relu\", input_dim=2048))\n",
    "model2.add(Dense(37, activation=\"softmax\"))\n",
    "\n",
    "model2.compile(optimizer='adam', loss='sparse_categorical_crossentropy', metrics=['acc'])\n",
    "history2 = model2.fit(train_features, train_labels, epochs=1000, batch_size=64, verbose=0)"
   ]
  },
  {
   "cell_type": "code",
   "execution_count": null,
   "metadata": {},
   "outputs": [],
   "source": []
  }
 ],
 "metadata": {
  "kernelspec": {
   "display_name": "Python 3",
   "language": "python",
   "name": "python3"
  },
  "language_info": {
   "codemirror_mode": {
    "name": "ipython",
    "version": 3
   },
   "file_extension": ".py",
   "mimetype": "text/x-python",
   "name": "python",
   "nbconvert_exporter": "python",
   "pygments_lexer": "ipython3",
   "version": "3.6.5"
  }
 },
 "nbformat": 4,
 "nbformat_minor": 2
}
